{
  "nbformat": 4,
  "nbformat_minor": 0,
  "metadata": {
    "colab": {
      "private_outputs": true,
      "provenance": [],
      "authorship_tag": "ABX9TyM90An45ODIZzk/bV3oVc8N",
      "include_colab_link": true
    },
    "kernelspec": {
      "name": "python3",
      "display_name": "Python 3"
    },
    "language_info": {
      "name": "python"
    }
  },
  "cells": [
    {
      "cell_type": "markdown",
      "metadata": {
        "id": "view-in-github",
        "colab_type": "text"
      },
      "source": [
        "<a href=\"https://colab.research.google.com/github/dialdfordata/Google-Colab/blob/main/00_Google_Colab_Introduction.ipynb\" target=\"_parent\"><img src=\"https://colab.research.google.com/assets/colab-badge.svg\" alt=\"Open In Colab\"/></a>"
      ]
    },
    {
      "cell_type": "markdown",
      "source": [
        "# ***Google Colaboratory***"
      ],
      "metadata": {
        "id": "epovZkalvJmQ"
      }
    },
    {
      "cell_type": "markdown",
      "source": [
        "## **Introduction**\n",
        "\n",
        "Google Colab, short for Colaboratory, is a free cloud service hosted by Google to encourage Machine Learning and Artificial Intelligence research. It allows users to write and execute Python and R code through the browser with zero configuration required, free access to GPUs and TPUs, and easy sharing. Whether you're a student, data scientist, or AI researcher, Colab can help you build and share your projects more efficiently.\n",
        "\n",
        "Colab notebooks allow you to combine **executable code** and **rich text** in a single document, along with **images**, **HTML**, **LaTeX** and more. When you create your own Colab notebooks, they are stored in your Google Drive account. You can easily share your Colab notebooks with co-workers or friends, allowing them to comment on your notebooks or even edit them. To learn more, see [Overview of Colab](/notebooks/basic_features_overview.ipynb). To create a new Colab notebook you can use the File menu above, or use the following link: [create a new Colab notebook](http://colab.research.google.com#create=true).\n",
        "\n",
        "Colab notebooks are Jupyter notebooks that are hosted by Colab. To learn more about the Jupyter project, see [jupyter.org](https://www.jupyter.org)."
      ],
      "metadata": {
        "id": "oK3lb6w5vTAl"
      }
    },
    {
      "cell_type": "markdown",
      "source": [
        "### **Cells**"
      ],
      "metadata": {
        "id": "hxsGCmdfvWtB"
      }
    },
    {
      "cell_type": "markdown",
      "source": [
        "**Text Cells**\n",
        "\n",
        "This is a **text cell**. We can **double-click** to edit this cell. Text cells\n",
        "use markdown syntax. To learn more, click on this link for [markdown\n",
        "guide](/notebooks/markdown_guide.ipynb).\n",
        "\n",
        "We can also add math to text cells using [LaTeX](http://www.latex-project.org/)\n",
        "to be rendered by [MathJax](https://www.mathjax.org). Just place the statement\n",
        "within a pair of **\\$** signs. For example `$\\sqrt{10x+5}+(2+x)^3$` becomes\n",
        "$\\sqrt{10x+5}+(2+x).$"
      ],
      "metadata": {
        "id": "1-xbMPNFvbGB"
      }
    },
    {
      "cell_type": "markdown",
      "source": [
        "**Code Cells**\n",
        "\n",
        "Below is a **code cell**. Once the toolbar button indicates CONNECTED, click in the cell to select it and execute the contents in the following ways:\n",
        "\n",
        "* Click the **Play icon** in the left gutter of the cell;\n",
        "* Type **Cmd/Ctrl+Enter** to run the cell in place;\n",
        "* Type **Shift+Enter** to run the cell and move focus to the next cell (adding one if none exists); or\n",
        "* Type **Alt+Enter** to run the cell and insert a new code cell immediately below it.\n",
        "\n",
        "There are additional options for running some or all cells in the **Runtime** menu."
      ],
      "metadata": {
        "id": "rmjGOtH1vfon"
      }
    },
    {
      "cell_type": "markdown",
      "source": [
        "**Numpy Examples**"
      ],
      "metadata": {
        "id": "_Gfy2lNYvmJg"
      }
    },
    {
      "cell_type": "code",
      "source": [
        "import numpy as np"
      ],
      "metadata": {
        "id": "bhQTKh_-ve6z"
      },
      "execution_count": null,
      "outputs": []
    },
    {
      "cell_type": "code",
      "execution_count": null,
      "metadata": {
        "id": "8DhlcW5OvJEF"
      },
      "outputs": [],
      "source": [
        "# Example 1: numpy - Array creation and basic operations\n",
        "print(\"\\n--- NumPy Example 1 ---\")\n",
        "array = np.array([1, 2, 3, 4, 5])\n",
        "print(\"Original Array:\", array)\n",
        "\n",
        "squared_array = np.square(array)\n",
        "print(\"Squared Array:\", squared_array)"
      ]
    },
    {
      "cell_type": "code",
      "source": [
        "# Example 2: numpy - Random array and mathematical operations\n",
        "print(\"\\n--- NumPy Example 2 ---\")\n",
        "random_array = np.random.rand(3, 3)\n",
        "print(\"Random Array:\")\n",
        "print(random_array)\n",
        "\n",
        "mean_value = np.mean(random_array)\n",
        "print(\"Mean Value:\", mean_value)"
      ],
      "metadata": {
        "id": "t1Wda9bkwWpa"
      },
      "execution_count": null,
      "outputs": []
    },
    {
      "cell_type": "markdown",
      "source": [
        "**Pandas Examples**"
      ],
      "metadata": {
        "id": "1Yd_EhEgvsFF"
      }
    },
    {
      "cell_type": "code",
      "source": [
        "import pandas as pd"
      ],
      "metadata": {
        "id": "Ez9209_-vwil"
      },
      "execution_count": null,
      "outputs": []
    },
    {
      "cell_type": "code",
      "source": [
        "# Example 1: pandas - DataFrame creation and basic operations\n",
        "print(\"--- Pandas Example 1 ---\")\n",
        "data = {\n",
        "    'Name': ['Alice', 'Bob', 'Charlie', 'David'],\n",
        "    'Age': [24, 27, 22, 32],\n",
        "    'Score': [85, 90, 88, 95]\n",
        "}\n",
        "df = pd.DataFrame(data)\n",
        "print(\"Original DataFrame:\")\n",
        "print(df)\n",
        "\n",
        "print(\"\\nDataFrame Statistics:\")\n",
        "print(df.describe())"
      ],
      "metadata": {
        "id": "454co96avw9j"
      },
      "execution_count": null,
      "outputs": []
    },
    {
      "cell_type": "code",
      "source": [
        "# Example 2: pandas - Filtering and groupby\n",
        "print(\"\\n--- Pandas Example 2 ---\")\n",
        "filtered_df = df[df['Age'] > 25]\n",
        "print(\"Filtered DataFrame (Age > 25):\")\n",
        "print(filtered_df)"
      ],
      "metadata": {
        "id": "MvIJtp7ewdKQ"
      },
      "execution_count": null,
      "outputs": []
    },
    {
      "cell_type": "markdown",
      "source": [
        "**Matplotlib Examples**"
      ],
      "metadata": {
        "id": "SFgDxYuuv0Vh"
      }
    },
    {
      "cell_type": "code",
      "source": [
        "import matplotlib.pyplot as plt"
      ],
      "metadata": {
        "id": "dNX9fUrUv3gU"
      },
      "execution_count": null,
      "outputs": []
    },
    {
      "cell_type": "code",
      "source": [
        "# Example 1: matplotlib - Line plot\n",
        "print(\"\\n--- Matplotlib Example 1 ---\")\n",
        "plt.figure()\n",
        "plt.plot([1, 2, 3, 4], [1, 4, 9, 16], marker='*')\n",
        "plt.title('Line Plot')\n",
        "plt.xlabel('X-axis')\n",
        "plt.ylabel('Y-axis')\n",
        "plt.show()"
      ],
      "metadata": {
        "id": "fF7GSFmXv3z5"
      },
      "execution_count": null,
      "outputs": []
    },
    {
      "cell_type": "code",
      "source": [
        "# Example 2: matplotlib - Histogram\n",
        "print(\"\\n--- Matplotlib Example 2 ---\")\n",
        "data = np.random.normal(0, 1, 1000) # (mean, sd, size)\n",
        "plt.figure()\n",
        "plt.hist(data, bins=30, edgecolor='black')\n",
        "plt.title('Histogram')\n",
        "plt.xlabel('Value')\n",
        "plt.ylabel('Frequency')\n",
        "plt.show()"
      ],
      "metadata": {
        "id": "BGH61wbRv-_V"
      },
      "execution_count": null,
      "outputs": []
    },
    {
      "cell_type": "markdown",
      "source": [
        "### **System aliases**\n",
        "\n",
        "Jupyter includes shortcuts for common operations, such as ls:"
      ],
      "metadata": {
        "id": "tWQ0s8ZJ9VAp"
      }
    },
    {
      "cell_type": "code",
      "source": [
        "!ls /bin\n"
      ],
      "metadata": {
        "id": "yLM3zX6I9Kt_"
      },
      "execution_count": null,
      "outputs": []
    },
    {
      "cell_type": "markdown",
      "source": [
        "### **Installing a library that is not in Colaboratory**\n",
        "\n",
        "To import a library that's not in Colaboratory by default, you can use `!pip install` or `!apt-get install`."
      ],
      "metadata": {
        "id": "kBm7exUm9vo_"
      }
    },
    {
      "cell_type": "code",
      "source": [
        "!pip install pyspark -qU"
      ],
      "metadata": {
        "id": "y26WDNtD9exF"
      },
      "execution_count": null,
      "outputs": []
    }
  ]
}