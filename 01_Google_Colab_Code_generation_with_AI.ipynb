{
  "nbformat": 4,
  "nbformat_minor": 0,
  "metadata": {
    "colab": {
      "private_outputs": true,
      "provenance": [],
      "authorship_tag": "ABX9TyM54O2PQ61zbzFboSdllf59",
      "include_colab_link": true
    },
    "kernelspec": {
      "name": "python3",
      "display_name": "Python 3"
    },
    "language_info": {
      "name": "python"
    }
  },
  "cells": [
    {
      "cell_type": "markdown",
      "metadata": {
        "id": "view-in-github",
        "colab_type": "text"
      },
      "source": [
        "<a href=\"https://colab.research.google.com/github/dialdfordata/Google-Colab/blob/main/01_Google_Colab_Code_generation_with_AI.ipynb\" target=\"_parent\"><img src=\"https://colab.research.google.com/assets/colab-badge.svg\" alt=\"Open In Colab\"/></a>"
      ]
    },
    {
      "cell_type": "markdown",
      "source": [
        "# ***Google Colab: AI Code Assistance***"
      ],
      "metadata": {
        "id": "W0xu-HLQfSB8"
      }
    },
    {
      "cell_type": "markdown",
      "source": [
        "## **Code snippets features:**"
      ],
      "metadata": {
        "id": "R_5FjDP5gLtN"
      }
    },
    {
      "cell_type": "code",
      "source": [
        "import pandas as pd\n",
        "\n",
        "last_names = ['Connor', 'Connor', 'Reese']\n",
        "first_names = ['Sarah', 'John', 'Kyle']\n",
        "df = pd.DataFrame({\n",
        "  'first_name': first_names,\n",
        "  'last_name': last_names,\n",
        "})\n",
        "df"
      ],
      "metadata": {
        "id": "2IZiP6HZzA1z"
      },
      "execution_count": null,
      "outputs": []
    },
    {
      "cell_type": "markdown",
      "source": [
        "## **Code generation with AI:**"
      ],
      "metadata": {
        "id": "nsMwiNx7g5Rv"
      }
    },
    {
      "cell_type": "code",
      "source": [
        "import pandas as pd\n",
        "\n",
        "x = [1, 2, 3]\n",
        "y = [4, 5, 6]\n",
        "df = pd.DataFrame({\n",
        "  'x': x,\n",
        "  'y': y,\n",
        "})\n",
        "df"
      ],
      "metadata": {
        "id": "Bm05grjdxqfN"
      },
      "execution_count": null,
      "outputs": []
    },
    {
      "cell_type": "code",
      "source": [
        "# prompt: write a python function that we take a pandas data frame and then do the statistical analysis with the columns that has data type is numerical and for string data type run group by function to find the count of individual values.\n",
        "\n",
        "import pandas as pd\n",
        "\n",
        "def analyze_dataframe(df):\n",
        "  \"\"\"\n",
        "  Performs statistical analysis on numerical columns and groupby on string columns of a Pandas DataFrame.\n",
        "\n",
        "  Args:\n",
        "    df: The input Pandas DataFrame.\n",
        "\n",
        "  Returns:\n",
        "    None. Prints the results of the analysis.\n",
        "  \"\"\"\n",
        "  numerical_cols = df.select_dtypes(include=['number']).columns\n",
        "  string_cols = df.select_dtypes(include=['object', 'string']).columns\n",
        "\n",
        "  if len(numerical_cols) > 0:\n",
        "    print(\"Statistical analysis for numerical columns:\")\n",
        "    print(df[numerical_cols].describe())\n",
        "\n",
        "  if len(string_cols) > 0:\n",
        "    print(\"\\nGroupby analysis for string columns:\")\n",
        "    for col in string_cols:\n",
        "      print(f\"\\nGroupby results for column '{col}':\")\n",
        "      print(df.groupby(col).size())"
      ],
      "metadata": {
        "id": "8GL9qNnUxqWt"
      },
      "execution_count": null,
      "outputs": []
    },
    {
      "cell_type": "code",
      "source": [
        "# prompt: create a pandas data frame that consists of the numerical and string data type.\n",
        "\n",
        "import pandas as pd\n",
        "\n",
        "# Create a dictionary containing data of mixed types\n",
        "data = {'id': [1, 2, 3, 4, 5, 6, 7, 8, 9, 10],\n",
        "        'weight': [10.5, 20.2, 30.8, 40.1, 50.7, 12.25, 45.10, 70.75, 80.88, 95.55],\n",
        "        'fruit': ['apple', 'banana', 'cherry', 'date', 'elderberry', 'apple', 'apple', 'cherry', 'banana', 'banana']}\n",
        "\n",
        "# Create a Pandas DataFrame from the dictionary\n",
        "df = pd.DataFrame(data)\n",
        "\n",
        "# Display the DataFrame\n",
        "df"
      ],
      "metadata": {
        "id": "f1YixFRszsR-"
      },
      "execution_count": null,
      "outputs": []
    },
    {
      "cell_type": "code",
      "source": [
        "analyze_dataframe(df)"
      ],
      "metadata": {
        "id": "IJLEGb2CzsLi"
      },
      "execution_count": null,
      "outputs": []
    },
    {
      "cell_type": "code",
      "source": [
        "import pandas as pd\n",
        "\n",
        "df = pd.read_csv('/content/sample_data/california_housing_train.csv')"
      ],
      "metadata": {
        "id": "9CjBYoyGzsBo"
      },
      "execution_count": null,
      "outputs": []
    },
    {
      "cell_type": "code",
      "source": [
        "df.head()"
      ],
      "metadata": {
        "id": "bwFmk7W20SQe"
      },
      "execution_count": null,
      "outputs": []
    },
    {
      "cell_type": "code",
      "source": [
        "# prompt: Using dataframe df: average number of total_bedrooms\n",
        "\n",
        "# Calculate the average of total_bedrooms\n",
        "average_total_bedrooms = df['total_bedrooms'].mean()\n",
        "\n",
        "# Print the result\n",
        "print(f\"The average number of total bedrooms is: {average_total_bedrooms}\")\n"
      ],
      "metadata": {
        "id": "VmgQFaZL0Zik"
      },
      "execution_count": null,
      "outputs": []
    },
    {
      "cell_type": "code",
      "source": [
        "# prompt: using dataframe df: create a heat map for this dataset using seaborn library\n",
        "\n",
        "import pandas as pd\n",
        "import seaborn as sns\n",
        "import matplotlib.pyplot as plt\n",
        "\n",
        "# Assuming 'df' is your DataFrame (as defined in the previous code)\n",
        "# If 'df' is not defined in your current environment, load your data here:\n",
        "# df = pd.read_csv(\"your_file.csv\")  # Replace \"your_file.csv\" with the actual file path\n",
        "\n",
        "# Example using the California Housing dataset\n",
        "df = pd.read_csv('/content/sample_data/california_housing_train.csv')\n",
        "\n",
        "\n",
        "# Select numerical columns for the heatmap\n",
        "numerical_cols = df.select_dtypes(include=['number']).columns\n",
        "correlation_matrix = df[numerical_cols].corr()\n",
        "\n",
        "# Create the heatmap\n",
        "plt.figure(figsize=(12, 10))  # Adjust the figure size as needed\n",
        "sns.heatmap(correlation_matrix, annot=True, cmap='coolwarm', fmt=\".2f\")\n",
        "plt.title('Correlation Heatmap')\n",
        "plt.show()"
      ],
      "metadata": {
        "id": "qgag1AZd0p0F"
      },
      "execution_count": null,
      "outputs": []
    },
    {
      "cell_type": "markdown",
      "source": [
        "# ***Statutory Warning***"
      ],
      "metadata": {
        "id": "u87zxNIejlUP"
      }
    },
    {
      "cell_type": "markdown",
      "source": [
        "\n",
        "## **Generative code assistance**\n",
        "\n",
        "Certain Google services now offer experimental access to code assistance features powered by generative AI technology. This page applies to the services and features that link to it.\n",
        "\n",
        "### **Use responsibly**\n",
        "\n",
        "Our generative code features are still experimental and you’re responsible for your use of suggested code or coding explanations. So, you should use discretion and carefully test and review all code for errors, bugs and vulnerabilities before relying on it.\n",
        "\n",
        "### **Citations**\n",
        "\n",
        "Our generative code features are intended to produce original content and not replicate existing content at length. We’ve designed our systems to limit the chances of this occurring and we will continue to improve how these systems function. If these features do directly quote at length from a webpage, they cite that page.\n",
        "\n",
        "Sometimes, the same content may be found on multiple webpages and we’ll attempt to point you to a popular source. In the case of citations to code repositories, the citation may also reference an applicable open-source licence. Complying with any licence requirements is your responsibility.\n",
        "\n",
        "\n",
        "https://support.google.com/legal/answer/13505487"
      ],
      "metadata": {
        "id": "Lz34NBcte-1W"
      }
    }
  ]
}